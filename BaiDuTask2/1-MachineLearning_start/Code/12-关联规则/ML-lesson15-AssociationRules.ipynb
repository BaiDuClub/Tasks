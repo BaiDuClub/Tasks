{
 "cells": [
  {
   "cell_type": "markdown",
   "metadata": {},
   "source": [
    "# 机器学习练习-关联规则\n",
    "\n",
    "代码更新地址：https://github.com/fengdu78/WZU-machine-learning-course\n",
    "\n",
    "代码修改并注释：黄海广，haiguang2000@wzu.edu.cn "
   ]
  },
  {
   "cell_type": "markdown",
   "metadata": {},
   "source": [
    "## Apriori算法实现"
   ]
  },
  {
   "cell_type": "code",
   "execution_count": 1,
   "metadata": {},
   "outputs": [],
   "source": [
    "import numpy as np"
   ]
  },
  {
   "cell_type": "code",
   "execution_count": 2,
   "metadata": {},
   "outputs": [],
   "source": [
    "def loadDataSet():\n",
    "    return [[1, 3, 4], [2, 3, 5], [1, 2, 3, 5], [2, 5]]"
   ]
  },
  {
   "cell_type": "code",
   "execution_count": 3,
   "metadata": {},
   "outputs": [],
   "source": [
    "# 获取候选1项集，dataSet为事务集。返回一个list，每个元素都是set集合\n",
    "def createC1(dataSet):\n",
    "    C1 = []  # 元素个数为1的项集（非频繁项集，因为还没有同最小支持度比较）\n",
    "    for transaction in dataSet:\n",
    "        for item in transaction:\n",
    "            if not [item] in C1:\n",
    "                C1.append([item])\n",
    "    C1.sort()  # 这里排序是为了，生成新的候选集时可以直接认为两个n项候选集前面的部分相同\n",
    "    # 因为除了候选1项集外其他的候选n项集都是以二维列表的形式存在，所以要将候选1项集的每一个元素都转化为一个单独的集合。\n",
    "    return list(\n",
    "        map(frozenset, C1)\n",
    "    )  #map(frozenset, C1)的语义是将C1由Python列表转换为不变集合（frozenset，Python中的数据结构）"
   ]
  },
  {
   "cell_type": "code",
   "execution_count": 4,
   "metadata": {},
   "outputs": [],
   "source": [
    "# 找出候选集中的频繁项集\n",
    "# dataSet为全部数据集，Ck为大小为k（包含k个元素）的候选项集，minSupport为设定的最小支持度\n",
    "def scanD(dataSet, Ck, minSupport):\n",
    "    ssCnt = {}  # 记录每个候选项的个数\n",
    "    for tid in dataSet:\n",
    "        for can in Ck:\n",
    "            if can.issubset(tid):\n",
    "                ssCnt[can] = ssCnt.get(can, 0) + 1  # 计算每一个项集出现的频率\n",
    "    numItems = float(len(dataSet))\n",
    "    retList = []\n",
    "    supportData = {}\n",
    "    for key in ssCnt:\n",
    "        support = ssCnt[key] / numItems\n",
    "        if support >= minSupport:\n",
    "            retList.insert(0, key)  #将频繁项集插入返回列表的首部\n",
    "        supportData[key] = support\n",
    "    return retList, supportData  #retList为在Ck中找出的频繁项集（支持度大于minSupport的），supportData记录各频繁项集的支持度"
   ]
  },
  {
   "cell_type": "code",
   "execution_count": 5,
   "metadata": {},
   "outputs": [],
   "source": [
    "# 通过频繁项集列表Lk和项集个数k生成候选项集C(k+1)。\n",
    "def aprioriGen(Lk, k):\n",
    "    retList = []\n",
    "    lenLk = len(Lk)\n",
    "    for i in range(lenLk):\n",
    "        for j in range(i + 1, lenLk):\n",
    "            # 前k-1项相同时，才将两个集合合并，合并后才能生成k+1项\n",
    "            L1 = list(Lk[i])[:k - 2]\n",
    "            L2 = list(Lk[j])[:k - 2]  # 取出两个集合的前k-1个元素\n",
    "            L1.sort()\n",
    "            L2.sort()\n",
    "            if L1 == L2:\n",
    "                retList.append(Lk[i] | Lk[j])\n",
    "    return retList"
   ]
  },
  {
   "cell_type": "code",
   "execution_count": 6,
   "metadata": {},
   "outputs": [],
   "source": [
    "# 获取事务集中的所有的频繁项集\n",
    "# Ck表示项数为k的候选项集，最初的C1通过createC1()函数生成。Lk表示项数为k的频繁项集，supK为其支持度，Lk和supK由scanD()函数通过Ck计算而来。\n",
    "def apriori(dataSet, minSupport=0.5):\n",
    "    C1 = createC1(dataSet)  # 从事务集中获取候选1项集\n",
    "    D = list(map(set, dataSet))  # 将事务集的每个元素转化为集合\n",
    "    L1, supportData = scanD(D, C1, minSupport)  # 获取频繁1项集和对应的支持度\n",
    "    L = [L1]  # L用来存储所有的频繁项集\n",
    "    k = 2\n",
    "    while (len(L[k - 2]) > 0):  # 一直迭代到项集数目过大而在事务集中不存在这种n项集\n",
    "        Ck = aprioriGen(L[k - 2], k)  # 根据频繁项集生成新的候选项集。Ck表示项数为k的候选项集\n",
    "        Lk, supK = scanD(D, Ck, minSupport)  # Lk表示项数为k的频繁项集，supK为其支持度\n",
    "        L.append(Lk)\n",
    "        supportData.update(supK)  # 添加新频繁项集和他们的支持度\n",
    "        k += 1\n",
    "    return L, supportData"
   ]
  },
  {
   "cell_type": "code",
   "execution_count": 7,
   "metadata": {},
   "outputs": [
    {
     "name": "stdout",
     "output_type": "stream",
     "text": [
      "[[frozenset({5}), frozenset({2}), frozenset({3})], [frozenset({2, 5})], []] {frozenset({1}): 0.5, frozenset({3}): 0.75, frozenset({4}): 0.25, frozenset({2}): 0.75, frozenset({5}): 0.75, frozenset({2, 5}): 0.75, frozenset({3, 5}): 0.5, frozenset({2, 3}): 0.5}\n"
     ]
    }
   ],
   "source": [
    "dataSet = loadDataSet()  # 获取事务集。每个元素都是列表\n",
    "# C1 = createC1(dataSet)  # 获取候选1项集。每个元素都是集合\n",
    "# D = list(map(set, dataSet))  # 转化事务集的形式，每个元素都转化为集合。\n",
    "# L1, suppDat = scanD(D, C1, 0.5)\n",
    "# print(L1,suppDat)\n",
    "\n",
    "L, suppData = apriori(dataSet, minSupport=0.7)\n",
    "print(L, suppData)"
   ]
  },
  {
   "cell_type": "markdown",
   "metadata": {},
   "source": [
    "## FP树"
   ]
  },
  {
   "cell_type": "code",
   "execution_count": 8,
   "metadata": {},
   "outputs": [],
   "source": [
    "# FP树类\n",
    "class treeNode:\n",
    "    def __init__(self, nameValue, numOccur, parentNode):\n",
    "        self.name = nameValue  #节点元素名称，在构造时初始化为给定值\n",
    "        self.count = numOccur  # 出现次数，在构造时初始化为给定值\n",
    "        self.nodeLink = None  # 指向下一个相似节点的指针，默认为None\n",
    "        self.parent = parentNode  # 指向父节点的指针，在构造时初始化为给定值\n",
    "        self.children = {}  # 指向子节点的字典，以子节点的元素名称为键，指向子节点的指针为值，初始化为空字典\n",
    "\n",
    "    # 增加节点的出现次数值\n",
    "    def inc(self, numOccur):\n",
    "        self.count += numOccur\n",
    "\n",
    "    # 输出节点和子节点的FP树结构\n",
    "    def disp(self, ind=1):\n",
    "        print(' ' * ind, self.name, ' ', self.count)\n",
    "        for child in self.children.values():\n",
    "            child.disp(ind + 1)"
   ]
  },
  {
   "cell_type": "code",
   "execution_count": 9,
   "metadata": {},
   "outputs": [],
   "source": [
    "# =======================================================构建FP树==================================================\n",
    "# 对不是第一个出现的节点，更新头指针块。就是添加到相似元素链表的尾部\n",
    "def updateHeader(nodeToTest, targetNode):\n",
    "    while (nodeToTest.nodeLink != None):\n",
    "        nodeToTest = nodeToTest.nodeLink\n",
    "    nodeToTest.nodeLink = targetNode"
   ]
  },
  {
   "cell_type": "code",
   "execution_count": 10,
   "metadata": {},
   "outputs": [],
   "source": [
    "# 根据一个排序过滤后的频繁项更新FP树\n",
    "def updateTree(items, inTree, headerTable, count):\n",
    "    if items[0] in inTree.children:\n",
    "        # 有该元素项时计数值+1\n",
    "        inTree.children[items[0]].inc(count)\n",
    "    else:\n",
    "        # 没有这个元素项时创建一个新节点\n",
    "        inTree.children[items[0]] = treeNode(items[0], count, inTree)\n",
    "        # 更新头指针表或前一个相似元素项节点的指针指向新节点\n",
    "        if headerTable[items[0]][1] == None:  # 如果是第一次出现，则在头指针表中增加对该节点的指向\n",
    "            headerTable[items[0]][1] = inTree.children[items[0]]\n",
    "        else:\n",
    "            updateHeader(headerTable[items[0]][1], inTree.children[items[0]])\n",
    "\n",
    "    if len(items) > 1:\n",
    "        # 对剩下的元素项迭代调用updateTree函数\n",
    "        updateTree(items[1::], inTree.children[items[0]], headerTable, count)"
   ]
  },
  {
   "cell_type": "code",
   "execution_count": 11,
   "metadata": {},
   "outputs": [],
   "source": [
    "# 主程序。创建FP树。dataSet为事务集，为一个字典，键为每个事物，值为该事物出现的次数。minSup为最低支持度\n",
    "def createTree(dataSet, minSup=1):\n",
    "    # 第一次遍历数据集，创建头指针表\n",
    "    headerTable = {}\n",
    "    for trans in dataSet:\n",
    "        for item in trans:\n",
    "            headerTable[item] = headerTable.get(item, 0) + dataSet[trans]\n",
    "    # 移除不满足最小支持度的元素项\n",
    "    keys = list(headerTable.keys())  # 因为字典要求在迭代中不能修改，所以转化为列表\n",
    "    for k in keys:\n",
    "        if headerTable[k] < minSup:\n",
    "            del (headerTable[k])\n",
    "    # 空元素集，返回空\n",
    "    freqItemSet = set(headerTable.keys())\n",
    "    if len(freqItemSet) == 0:\n",
    "        return None, None\n",
    "    # 增加一个数据项，用于存放指向相似元素项指针\n",
    "    for k in headerTable:\n",
    "        headerTable[k] = [headerTable[k], None]  # 每个键的值，第一个为个数，第二个为下一个节点的位置\n",
    "    retTree = treeNode('Null Set', 1, None)  # 根节点\n",
    "    # 第二次遍历数据集，创建FP树\n",
    "    for tranSet, count in dataSet.items():\n",
    "        localD = {}  # 记录频繁1项集的全局频率，用于排序\n",
    "        for item in tranSet:\n",
    "            if item in freqItemSet:  # 只考虑频繁项\n",
    "                localD[item] = headerTable[item][0]  # 注意这个[0]，因为之前加过一个数据项\n",
    "        if len(localD) > 0:\n",
    "            orderedItems = [\n",
    "                v[0] for v in sorted(\n",
    "                    localD.items(), key=lambda p: p[1], reverse=True)\n",
    "            ]  # 排序\n",
    "            updateTree(orderedItems, retTree, headerTable, count)  # 更新FP树\n",
    "    return retTree, headerTable"
   ]
  },
  {
   "cell_type": "code",
   "execution_count": 12,
   "metadata": {},
   "outputs": [],
   "source": [
    "# =================================================查找元素条件模式基===============================================\n",
    "# 直接修改prefixPath的值，将当前节点leafNode添加到prefixPath的末尾，然后递归添加其父节点。\n",
    "# prefixPath就是一条从treeNode（包括treeNode）到根节点（不包括根节点）的路径\n",
    "def ascendTree(leafNode, prefixPath):\n",
    "    if leafNode.parent != None:\n",
    "        prefixPath.append(leafNode.name)\n",
    "        ascendTree(leafNode.parent, prefixPath)"
   ]
  },
  {
   "cell_type": "code",
   "execution_count": 13,
   "metadata": {},
   "outputs": [],
   "source": [
    "# 为给定元素项生成一个条件模式基（前缀路径）。basePet表示输入的频繁项，treeNode为当前FP树中对应的第一个节点\n",
    "# 函数返回值即为条件模式基condPats，用一个字典表示，键为前缀路径，值为计数值。\n",
    "def findPrefixPath(basePat, treeNode):\n",
    "    condPats = {}  # 存储条件模式基\n",
    "    while treeNode != None:\n",
    "        prefixPath = []  # 用于存储前缀路径\n",
    "        ascendTree(treeNode, prefixPath)  # 生成前缀路径\n",
    "        if len(prefixPath) > 1:\n",
    "            condPats[frozenset(\n",
    "                prefixPath[1:])] = treeNode.count  # 出现的数量就是当前叶子节点的数量\n",
    "        treeNode = treeNode.nodeLink  # 遍历下一个相同元素\n",
    "    return condPats"
   ]
  },
  {
   "cell_type": "code",
   "execution_count": 14,
   "metadata": {},
   "outputs": [],
   "source": [
    "# =================================================递归查找频繁项集===============================================\n",
    "# 根据事务集获取FP树和频繁项。\n",
    "# 遍历频繁项，生成每个频繁项的条件FP树和条件FP树的频繁项\n",
    "# 这样每个频繁项与他条件FP树的频繁项都构成了频繁项集\n",
    "\n",
    "\n",
    "# inTree和headerTable是由createTree()函数生成的事务集的FP树。\n",
    "# minSup表示最小支持度。\n",
    "# preFix请传入一个空集合（set([])），将在函数中用于保存当前前缀。\n",
    "# freqItemList请传入一个空列表（[]），将用来储存生成的频繁项集。\n",
    "def mineTree(inTree, headerTable, minSup, preFix, freqItemList):\n",
    "    # 对频繁项按出现的数量进行排序进行排序\n",
    "    sorted_headerTable = sorted(\n",
    "        headerTable.items(),\n",
    "        key=lambda p: p[1][0])  #返回重新排序的列表。每个元素是一个元组，[（key,[num,treeNode],()）\n",
    "    bigL = [v[0] for v in sorted_headerTable]  # 获取频繁项\n",
    "    for basePat in bigL:\n",
    "        newFreqSet = preFix.copy()  # 新的频繁项集\n",
    "        newFreqSet.add(basePat)  # 当前前缀添加一个新元素\n",
    "        freqItemList.append(newFreqSet)  # 所有的频繁项集列表\n",
    "        condPattBases = findPrefixPath(\n",
    "            basePat,\n",
    "            headerTable[basePat][1])  # 获取条件模式基。就是basePat元素的所有前缀路径。它像一个新的事务集\n",
    "        myCondTree, myHead = createTree(condPattBases, minSup)  # 创建条件FP树\n",
    "\n",
    "        if myHead != None:\n",
    "            # 用于测试\n",
    "            print('conditional tree for:', newFreqSet)\n",
    "            myCondTree.disp()\n",
    "            mineTree(myCondTree, myHead, minSup, newFreqSet,\n",
    "                     freqItemList)  # 递归直到不再有元素"
   ]
  },
  {
   "cell_type": "code",
   "execution_count": 15,
   "metadata": {},
   "outputs": [],
   "source": [
    "# 生成数据集\n",
    "def loadSimpDat():\n",
    "    simpDat = [['r', 'z', 'h', 'j', 'p'],\n",
    "               ['z', 'y', 'x', 'w', 'v', 'u', 't', 's'], ['z'],\n",
    "               ['r', 'x', 'n', 'o', 's'], ['y', 'r', 'x', 'z', 'q', 't', 'p'],\n",
    "               ['y', 'z', 'x', 'e', 'q', 's', 't', 'm']]\n",
    "    return simpDat"
   ]
  },
  {
   "cell_type": "code",
   "execution_count": 16,
   "metadata": {},
   "outputs": [],
   "source": [
    "# 将数据集转化为目标格式\n",
    "def createInitSet(dataSet):\n",
    "    retDict = {}\n",
    "    for trans in dataSet:\n",
    "        retDict[frozenset(trans)] = 1\n",
    "    return retDict"
   ]
  },
  {
   "cell_type": "code",
   "execution_count": 17,
   "metadata": {},
   "outputs": [
    {
     "name": "stdout",
     "output_type": "stream",
     "text": [
      "conditional tree for: {'y'}\n",
      "  Null Set   1\n",
      "   x   3\n",
      "    z   3\n",
      "conditional tree for: {'y', 'z'}\n",
      "  Null Set   1\n",
      "   x   3\n",
      "conditional tree for: {'s'}\n",
      "  Null Set   1\n",
      "   x   3\n",
      "conditional tree for: {'t'}\n",
      "  Null Set   1\n",
      "   y   3\n",
      "    z   2\n",
      "     x   2\n",
      "    x   1\n",
      "     z   1\n",
      "conditional tree for: {'z', 't'}\n",
      "  Null Set   1\n",
      "   y   3\n",
      "conditional tree for: {'x', 't'}\n",
      "  Null Set   1\n",
      "   y   3\n",
      "conditional tree for: {'x'}\n",
      "  Null Set   1\n",
      "   z   3\n",
      "[{'r'}, {'y'}, {'y', 'x'}, {'y', 'z'}, {'y', 'x', 'z'}, {'s'}, {'x', 's'}, {'t'}, {'y', 't'}, {'z', 't'}, {'y', 'z', 't'}, {'x', 't'}, {'y', 'x', 't'}, {'x'}, {'x', 'z'}, {'z'}]\n"
     ]
    }
   ],
   "source": [
    "minSup = 3\n",
    "simpDat = loadSimpDat()  # 加载数据集\n",
    "initSet = createInitSet(simpDat)  # 转化为符合格式的事务集\n",
    "myFPtree, myHeaderTab = createTree(initSet, minSup)  # 形成FP树\n",
    "# myFPtree.disp()  # 打印树\n",
    "\n",
    "freqItems = []  # 用于存储频繁项集\n",
    "mineTree(myFPtree, myHeaderTab, minSup, set([]), freqItems)  # 获取频繁项集\n",
    "print(freqItems)  # 打印频繁项集"
   ]
  },
  {
   "cell_type": "markdown",
   "metadata": {},
   "source": [
    "## 参考\n",
    "- https://www.cnblogs.com/lsqin/p/9342926.html"
   ]
  }
 ],
 "metadata": {
  "kernelspec": {
   "display_name": "Python 3",
   "language": "python",
   "name": "python3"
  },
  "language_info": {
   "codemirror_mode": {
    "name": "ipython",
    "version": 3
   },
   "file_extension": ".py",
   "mimetype": "text/x-python",
   "name": "python",
   "nbconvert_exporter": "python",
   "pygments_lexer": "ipython3",
   "version": "3.8.8"
  }
 },
 "nbformat": 4,
 "nbformat_minor": 1
}
