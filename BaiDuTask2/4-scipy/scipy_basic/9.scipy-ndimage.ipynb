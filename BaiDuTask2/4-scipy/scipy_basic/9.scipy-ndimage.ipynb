{
 "cells": [
  {
   "cell_type": "code",
   "execution_count": 1,
   "metadata": {},
   "outputs": [],
   "source": [
    "import numpy as np\n",
    "import pylab as pl"
   ]
  },
  {
   "cell_type": "markdown",
   "metadata": {},
   "source": [
    "## 图像处理-ndimage"
   ]
  },
  {
   "cell_type": "markdown",
   "metadata": {},
   "source": [
    "### 形态学图像处理"
   ]
  },
  {
   "cell_type": "code",
   "execution_count": 1,
   "metadata": {},
   "outputs": [],
   "source": [
    "import numpy as np\n",
    "\n",
    "def expand_image(img, value, out=None, size = 10):\n",
    "    if out is None:\n",
    "        w, h = img.shape\n",
    "        out = np.zeros((w*size, h*size),dtype=np.uint8)\n",
    "    \n",
    "    tmp = np.repeat(np.repeat(img,size,0),size,1)\n",
    "    out[:,:] = np.where(tmp, value, out)\n",
    "    out[::size,:] = 0\n",
    "    out[:,::size] = 0\n",
    "    return out\n",
    "    \n",
    "def show_image(*imgs): \n",
    "    for idx, img in enumerate(imgs, 1):\n",
    "        ax = pl.subplot(1, len(imgs), idx)\n",
    "        pl.imshow(img, cmap=\"gray\")   \n",
    "        ax.set_axis_off()    \n",
    "    pl.subplots_adjust(0.02, 0, 0.98, 1, 0.02, 0)        "
   ]
  },
  {
   "cell_type": "markdown",
   "metadata": {},
   "source": [
    "#### 膨胀和腐蚀"
   ]
  },
  {
   "cell_type": "code",
   "execution_count": 3,
   "metadata": {},
   "outputs": [
    {
     "data": {
      "image/png": "[encoded data removed]",
      "text/plain": [
       "<matplotlib.figure.Figure at 0x1a649fb9b38>"
      ]
     },
     "metadata": {},
     "output_type": "display_data"
    }
   ],
   "source": [
    "#%fig=四连通和八连通的膨胀运算\n",
    "from scipy.ndimage import morphology\n",
    "\n",
    "def dilation_demo(a, structure=None):\n",
    "    b = morphology.binary_dilation(a, structure)\n",
    "    img = expand_image(a, 255)\n",
    "    return expand_image(np.logical_xor(a,b), 150, out=img)\n",
    "\n",
    "a = pl.imread(\"scipy_morphology_demo.png\")[:,:,0].astype(np.uint8)\n",
    "img1 = expand_image(a, 255)\n",
    "\n",
    "img2 = dilation_demo(a)\n",
    "img3 = dilation_demo(a, [[1,1,1],[1,1,1],[1,1,1]])\n",
    "show_image(img1, img2, img3)"
   ]
  },
  {
   "cell_type": "code",
   "execution_count": 4,
   "metadata": {},
   "outputs": [
    {
     "data": {
      "image/png": "[encoded data removed]",
      "text/plain": [
       "<matplotlib.figure.Figure at 0x1a649fb9278>"
      ]
     },
     "metadata": {},
     "output_type": "display_data"
    }
   ],
   "source": [
    "#%fig=不同结构元素的膨胀效果\n",
    "img4 = dilation_demo(a, [[0,0,0],[1,1,1],[0,0,0]])\n",
    "img5 = dilation_demo(a, [[0,1,0],[0,1,0],[0,1,0]])\n",
    "img6 = dilation_demo(a, [[0,1,0],[0,1,0],[0,0,0]])\n",
    "show_image(img4, img5, img6)"
   ]
  },
  {
   "cell_type": "code",
   "execution_count": 5,
   "metadata": {},
   "outputs": [
    {
     "data": {
      "image/png": "[encoded data removed]",
      "text/plain": [
       "<matplotlib.figure.Figure at 0x1a64c92bda0>"
      ]
     },
     "metadata": {},
     "output_type": "display_data"
    }
   ],
   "source": [
    "#%fig=四连通和八连通的腐蚀运算\n",
    "def erosion_demo(a, structure=None):\n",
    "    b = morphology.binary_erosion(a, structure)\n",
    "    img = expand_image(a, 255)\n",
    "    return expand_image(np.logical_xor(a,b), 100, out=img)\n",
    "\n",
    "img1 = expand_image(a, 255)\n",
    "img2 = erosion_demo(a)\n",
    "img3 = erosion_demo(a, [[1,1,1],[1,1,1],[1,1,1]])\n",
    "show_image(img1, img2, img3)"
   ]
  },
  {
   "cell_type": "markdown",
   "metadata": {},
   "source": [
    "#### Hit和Miss"
   ]
  },
  {
   "cell_type": "code",
   "execution_count": 6,
   "metadata": {},
   "outputs": [
    {
     "data": {
      "image/png": "[encoded data removed]",
      "text/plain": [
       "<matplotlib.figure.Figure at 0x1a64c9f8da0>"
      ]
     },
     "metadata": {},
     "output_type": "display_data"
    }
   ],
   "source": [
    "#%fig=Hit和Miss运算\n",
    "def hitmiss_demo(a, structure1, structure2):\n",
    "    b = morphology.binary_hit_or_miss(a, structure1, structure2)\n",
    "    img = expand_image(a, 100)\n",
    "    return expand_image(b, 255, out=img)\n",
    "\n",
    "img1 = expand_image(a, 255)\n",
    "\n",
    "img2 = hitmiss_demo(a, [[0,0,0],[0,1,0],[1,1,1]], [[1,0,0],[0,0,0],[0,0,0]])\n",
    "img3 = hitmiss_demo(a, [[0,0,0],[0,0,0],[1,1,1]], [[1,0,0],[0,1,0],[0,0,0]])\n",
    "\n",
    "show_image(img1, img2, img3)"
   ]
  },
  {
   "cell_type": "code",
   "execution_count": 7,
   "metadata": {},
   "outputs": [
    {
     "data": {
      "image/png": "[encoded data removed]",
      "text/plain": [
       "<matplotlib.figure.Figure at 0x1a64c932fd0>"
      ]
     },
     "metadata": {},
     "output_type": "display_data"
    }
   ],
   "source": [
    "#%fig=使用Hit和Miss进行细线化运算\n",
    "def skeletonize(img):\n",
    "    h1 = np.array([[0, 0, 0],[0, 1, 0],[1, 1, 1]]) #❶\n",
    "    m1 = np.array([[1, 1, 1],[0, 0, 0],[0, 0, 0]]) \n",
    "    h2 = np.array([[0, 0, 0],[1, 1, 0],[0, 1, 0]]) \n",
    "    m2 = np.array([[0, 1, 1],[0, 0, 1],[0, 0, 0]])    \n",
    "    hit_list = [] \n",
    "    miss_list = []\n",
    "    for k in range(4): #❷\n",
    "        hit_list.append(np.rot90(h1, k))\n",
    "        hit_list.append(np.rot90(h2, k))\n",
    "        miss_list.append(np.rot90(m1, k))\n",
    "        miss_list.append(np.rot90(m2, k))    \n",
    "    img = img.copy()\n",
    "    while True:\n",
    "        last = img\n",
    "        for hit, miss in zip(hit_list, miss_list): \n",
    "            hm = morphology.binary_hit_or_miss(img, hit, miss) #❸\n",
    "            # 从图像中删除hit_or_miss所得到的白色点\n",
    "            img = np.logical_and(img, np.logical_not(hm)) #❹\n",
    "        # 如果处理之后的图像和处理前的图像相同，则结束处理\n",
    "        if np.all(img == last): #❺\n",
    "            break\n",
    "    return img\n",
    "\n",
    "a = pl.imread(\"scipy_morphology_demo2.png\")[:,:,0].astype(np.uint8)\n",
    "b = skeletonize(a)\n",
    "#%hide\n",
    "_, (ax1, ax2) = pl.subplots(1, 2, figsize=(9, 3))\n",
    "ax1.imshow(a, cmap=\"gray\", interpolation=\"nearest\")\n",
    "ax2.imshow(b, cmap=\"gray\", interpolation=\"nearest\")\n",
    "ax1.set_axis_off()\n",
    "ax2.set_axis_off()\n",
    "pl.subplots_adjust(0.02, 0, 0.98, 1, 0.02, 0)"
   ]
  },
  {
   "cell_type": "markdown",
   "metadata": {},
   "source": [
    "### 图像分割"
   ]
  },
  {
   "cell_type": "code",
   "execution_count": 8,
   "metadata": {},
   "outputs": [],
   "source": [
    "squares = pl.imread(\"suqares.jpg\")\n",
    "squares = (squares[:,:,0] < 200).astype(np.uint8) "
   ]
  },
  {
   "cell_type": "code",
   "execution_count": 9,
   "metadata": {},
   "outputs": [
    {
     "name": "stdout",
     "output_type": "stream",
     "text": [
      "各种距离值 [ 0  1  2  3  4  5  6  7  8  9 10 11 12 13 14 15 16 17 18 19 20 21 22 23\n",
      " 24 25 26 27]\n"
     ]
    }
   ],
   "source": [
    "from scipy.ndimage import morphology\n",
    "squares_dt = morphology.distance_transform_cdt(squares)\n",
    "print (\"各种距离值\", np.unique(squares_dt))"
   ]
  },
  {
   "cell_type": "code",
   "execution_count": 10,
   "metadata": {},
   "outputs": [],
   "source": [
    "squares_core = (squares_dt > 8).astype(np.uint8)"
   ]
  },
  {
   "cell_type": "code",
   "execution_count": 11,
   "metadata": {},
   "outputs": [],
   "source": [
    "from scipy.ndimage.measurements import label, center_of_mass\n",
    "\n",
    "def random_palette(labels, count, seed=1):\n",
    "    np.random.seed(seed)\n",
    "    palette = np.random.rand(count+1, 3)\n",
    "    palette[0,:] = 0\n",
    "    return palette[labels]\n",
    "\n",
    "labels, count = label(squares_core)\n",
    "h, w = labels.shape\n",
    "centers = np.array(center_of_mass(labels, labels, index=range(1, count+1)), np.int)\n",
    "cores = random_palette(labels, count)"
   ]
  },
  {
   "cell_type": "code",
   "execution_count": 12,
   "metadata": {},
   "outputs": [],
   "source": [
    "index = morphology.distance_transform_cdt(1-squares_core, \n",
    "                                          return_distances=False, \n",
    "                                          return_indices=True) #❶\n",
    "near_labels = labels[index[0], index[1]] #❷\n",
    "\n",
    "mask = (squares - squares_core).astype(bool)\n",
    "labels2 = labels.copy()\n",
    "labels2[mask] = near_labels[mask] #❸\n",
    "separated = random_palette(labels2, count)"
   ]
  },
  {
   "cell_type": "code",
   "execution_count": 13,
   "metadata": {},
   "outputs": [
    {
     "data": {
      "image/png": "[encoded data removed]",
      "text/plain": [
       "<matplotlib.figure.Figure at 0x1a64c972860>"
      ]
     },
     "metadata": {},
     "output_type": "display_data"
    }
   ],
   "source": [
    "#%figonly=矩形区域分割算法各个步骤的输出图像\n",
    "fig, axes = pl.subplots(2, 3, figsize=(7.5, 5.0), )\n",
    "fig.delaxes(axes[1, 2])\n",
    "axes[0, 0].imshow(squares, cmap=\"gray\");\n",
    "axes[0, 1].imshow(squares_dt)\n",
    "axes[0, 2].imshow(squares_core, cmap=\"gray\")\n",
    "ax = axes[1, 0]\n",
    "ax.imshow(cores)\n",
    "center_y, center_x = centers.T\n",
    "ax.plot(center_x, center_y, \"o\", color=\"white\")\n",
    "ax.set_xlim(0, w)\n",
    "ax.set_ylim(h, 0)\n",
    "\n",
    "axes[1, 1].imshow(separated)\n",
    "\n",
    "for ax in axes.ravel():\n",
    "    ax.axis(\"off\")\n",
    "    \n",
    "fig.subplots_adjust(wspace=0.01, hspace=0.01)"
   ]
  }
 ],
 "metadata": {
  "kernelspec": {
   "display_name": "Python 3",
   "language": "python",
   "name": "python3"
  },
  "language_info": {
   "codemirror_mode": {
    "name": "ipython",
    "version": 3
   },
   "file_extension": ".py",
   "mimetype": "text/x-python",
   "name": "python",
   "nbconvert_exporter": "python",
   "pygments_lexer": "ipython3",
   "version": "3.10.4"
  }
 },
 "nbformat": 4,
 "nbformat_minor": 1
}
